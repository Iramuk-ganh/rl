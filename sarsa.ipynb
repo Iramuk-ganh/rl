{
  "cells": [
    {
      "cell_type": "markdown",
      "metadata": {
        "id": "view-in-github",
        "colab_type": "text"
      },
      "source": [
        "<a href=\"https://colab.research.google.com/github/Iramuk-ganh/rl/blob/main/sarsa.ipynb\" target=\"_parent\"><img src=\"https://colab.research.google.com/assets/colab-badge.svg\" alt=\"Open In Colab\"/></a>"
      ]
    },
    {
      "cell_type": "code",
      "execution_count": null,
      "metadata": {
        "colab": {
          "base_uri": "https://localhost:8080/"
        },
        "id": "p8iVF6vcsvFh",
        "outputId": "ff96fb7f-d209-4b09-a52a-145e9388bb51"
      },
      "outputs": [
        {
          "output_type": "stream",
          "name": "stdout",
          "text": [
            "(Reading database ... 155222 files and directories currently installed.)\n",
            "Preparing to unpack .../xserver-common_2%3a1.19.6-1ubuntu4.10_all.deb ...\n",
            "Unpacking xserver-common (2:1.19.6-1ubuntu4.10) over (2:1.19.6-1ubuntu4.9) ...\n",
            "Selecting previously unselected package xvfb.\n",
            "Preparing to unpack .../xvfb_2%3a1.19.6-1ubuntu4.10_amd64.deb ...\n",
            "Unpacking xvfb (2:1.19.6-1ubuntu4.10) ...\n",
            "Setting up xserver-common (2:1.19.6-1ubuntu4.10) ...\n",
            "Setting up xvfb (2:1.19.6-1ubuntu4.10) ...\n",
            "Processing triggers for man-db (2.8.3-2ubuntu0.1) ...\n",
            "Starting virtual X frame buffer: Xvfb.\n"
          ]
        }
      ],
      "source": [
        "import sys, os\n",
        "if 'google.colab' in sys.modules and not os.path.exists('.setup_complete'):\n",
        "    !wget -q https://raw.githubusercontent.com/yandexdataschool/Practical_RL/master/setup_colab.sh -O- | bash\n",
        "\n",
        "    !wget -q https://raw.githubusercontent.com/yandexdataschool/Practical_RL/coursera/grading.py -O ../grading.py\n",
        "    !wget -q https://raw.githubusercontent.com/yandexdataschool/Practical_RL/coursera/week3_model_free/submit.py\n",
        "\n",
        "    !touch .setup_complete\n",
        "\n",
        "# This code creates a virtual display to draw game images on.\n",
        "# It will have no effect if your machine has a monitor.\n",
        "if type(os.environ.get(\"DISPLAY\")) is not str or len(os.environ.get(\"DISPLAY\")) == 0:\n",
        "    !bash ../xvfb start\n",
        "    os.environ['DISPLAY'] = ':1'"
      ]
    },
    {
      "cell_type": "code",
      "execution_count": null,
      "metadata": {
        "id": "1WKiD9pks36D"
      },
      "outputs": [],
      "source": [
        "import numpy as np\n",
        "import matplotlib.pyplot as plt\n",
        "%matplotlib inline"
      ]
    },
    {
      "cell_type": "code",
      "execution_count": null,
      "metadata": {
        "id": "prPLdFZqs5-e"
      },
      "outputs": [],
      "source": [
        "from collections import defaultdict\n",
        "import random\n",
        "import math\n",
        "import numpy as np"
      ]
    },
    {
      "cell_type": "code",
      "execution_count": null,
      "metadata": {
        "id": "h2LPd-d-s_O5"
      },
      "outputs": [],
      "source": [
        "class QLearningAgent:\n",
        "  def __init__(self, alpha, epsilon, discount, get_legal_actions):\n",
        "    self.get_legal_actions = get_legal_actions\n",
        "    self._qvalues = defaultdict(lambda: defaultdict(lambda: 0))\n",
        "    self.alpha = alpha\n",
        "    self.epsilon = epsilon\n",
        "    self.discount = discount\n",
        "\n",
        "  def get_qvalue(self, state, action):\n",
        "    return self._qvalues[state][action]\n",
        "\n",
        "  def set_qvalue(self, state, action, value):\n",
        "    self._qvalues[state][action] = value\n",
        "\n",
        "\n",
        "\n",
        "  def get_value(self, state):\n",
        "    possible_actions = self.get_legal_actions(state)\n",
        "   \n",
        "    if len(possible_actions) == 0:\n",
        "      return 0.0\n",
        "\n",
        "    else:\n",
        "      #for i in range(len(possible_actions)):\n",
        "       # if self.get_qvalue(state, possible_actions[0])>value:\n",
        "      #    value = self.get_qvalue(state, possible_actions[0])\n",
        "      #return value\n",
        "      value  = np.max([self.get_qvalue(state, i) for i in possible_actions])\n",
        "      return value\n",
        "\n",
        "  def update(self, state, action, reward, next_state):\n",
        "    gamma = self.discount\n",
        "    learning_rate = self.alpha\n",
        "\n",
        "    #Q(s,a) := (1 - alpha) * Q(s,a) + alpha * (r + gamma * V(s'))\n",
        "\n",
        "    q_value = (1-learning_rate) * self.get_qvalue(state, action) + learning_rate * (reward + (gamma * self.get_value(next_state)))\n",
        "    self.set_qvalue(state, action, q_value)\n",
        "\n",
        "  def get_best_action(self, state):\n",
        "    #Compute the best action to take in a state (using current q-values)\n",
        "    possible_actions = self.get_legal_actions(state)\n",
        "\n",
        "    # If there are no legal actions, return None\n",
        "    if len(possible_actions) == 0:\n",
        "      return None\n",
        "    list_of_qvalues = [self.get_qvalue(state, action) for action in possible_actions]\n",
        "    best_action_index = np.argmax(list_of_qvalues)\n",
        "    return possible_actions[best_action_index]\n",
        "\n",
        "  def get_action(self, state):\n",
        "    possible_actions = self.get_legal_actions(state)\n",
        "    best_action = self.get_best_action(state)\n",
        "\n",
        "    if len( possible_actions) == 0:\n",
        "      return None\n",
        "    \n",
        "    epsilon = self.epsilon\n",
        "    choice = np.random.choice([0,1], p=[epsilon, 1-epsilon])\n",
        "    if choice:\n",
        "      chosen_action = best_action\n",
        "    else:\n",
        "      chosen_action = np.random.choice(possible_actions)\n",
        "    return chosen_action"
      ]
    },
    {
      "cell_type": "markdown",
      "metadata": {
        "id": "TYsN1lbbtyTF"
      },
      "source": [
        "Returns Vpi for current state under epsilon-greedy policy:\n",
        "\n",
        "         \n",
        "          V_{pi}(s) = sum _{over a_i} {pi(a_i | s) * Q(s, a_i)}\n",
        "      "
      ]
    },
    {
      "cell_type": "code",
      "execution_count": null,
      "metadata": {
        "id": "KwMu32W8tF8L"
      },
      "outputs": [],
      "source": [
        "class EVSarsaAgent(QLearningAgent):\n",
        "  def get_value(self, state):\n",
        "    epsilon = self.epsilon\n",
        "    possible_actions = self.get_legal_actions(state)\n",
        "\n",
        "    if len(possible_actions) == 0:\n",
        "      return 0.0\n",
        "\n",
        "    state_value = 0\n",
        "    for action in possible_actions:\n",
        "      if action == self.get_best_action(state):\n",
        "        state_value += ((1-epsilon)+epsilon/len(possible_actions)) * self.get_qvalue(state, action)\n",
        "      \n",
        "      else:\n",
        "        state_value += (epsilon/len(possible_actions)) * self.get_qvalue(state, action)\n",
        "           \n",
        "    return state_value"
      ]
    },
    {
      "cell_type": "code",
      "execution_count": null,
      "metadata": {
        "id": "_KKUlXkVzZA1"
      },
      "outputs": [],
      "source": [
        "import gym\n",
        "import gym.envs.toy_text"
      ]
    },
    {
      "cell_type": "code",
      "execution_count": null,
      "metadata": {
        "colab": {
          "base_uri": "https://localhost:8080/"
        },
        "id": "SqjtXTbyzoLy",
        "outputId": "7137fbcf-8ded-4240-82dd-10cb52c096f1"
      },
      "outputs": [
        {
          "output_type": "stream",
          "name": "stdout",
          "text": [
            "\n",
            "    This is a simple implementation of the Gridworld Cliff\n",
            "    reinforcement learning task.\n",
            "\n",
            "    Adapted from Example 6.6 (page 106) from Reinforcement Learning: An Introduction\n",
            "    by Sutton and Barto:\n",
            "    http://incompleteideas.net/book/bookdraft2018jan1.pdf\n",
            "\n",
            "    With inspiration from:\n",
            "    https://github.com/dennybritz/reinforcement-learning/blob/master/lib/envs/cliff_walking.py\n",
            "\n",
            "    The board is a 4x12 matrix, with (using Numpy matrix indexing):\n",
            "        [3, 0] as the start at bottom-left\n",
            "        [3, 11] as the goal at bottom-right\n",
            "        [3, 1..10] as the cliff at bottom-center\n",
            "\n",
            "    Each time step incurs -1 reward, and stepping into the cliff incurs -100 reward\n",
            "    and a reset to the start. An episode terminates when the agent reaches the goal.\n",
            "    \n"
          ]
        }
      ],
      "source": [
        "env = gym.envs.toy_text.CliffWalkingEnv()\n",
        "n_actions = env.action_space.n\n",
        "print(env.__doc__)"
      ]
    },
    {
      "cell_type": "code",
      "execution_count": null,
      "metadata": {
        "colab": {
          "base_uri": "https://localhost:8080/"
        },
        "id": "Y78848YMz1Xc",
        "outputId": "79697a3f-a990-405e-8d93-3262450439d2"
      },
      "outputs": [
        {
          "output_type": "stream",
          "name": "stdout",
          "text": [
            "o  o  o  o  o  o  o  o  o  o  o  o\n",
            "o  o  o  o  o  o  o  o  o  o  o  o\n",
            "o  o  o  o  o  o  o  o  o  o  o  o\n",
            "x  C  C  C  C  C  C  C  C  C  C  T\n",
            "\n"
          ]
        }
      ],
      "source": [
        "# Our cliffworld has one difference from what's on the image: there is no wall.\n",
        "# Agent can choose to go as close to the cliff as it wishes. x:start, T:exit, C:cliff, o: flat ground\n",
        "env.render()"
      ]
    },
    {
      "cell_type": "code",
      "execution_count": null,
      "metadata": {
        "id": "QqXKhgr00U-X"
      },
      "outputs": [],
      "source": [
        "def play_and_train(env, agent, t_max=10**4):\n",
        "    \"\"\"This function should \n",
        "    - run a full game, actions given by agent.getAction(s)\n",
        "    - train agent using agent.update(...) whenever possible\n",
        "    - return total reward\"\"\"\n",
        "    total_reward = 0.0\n",
        "    s = env.reset()\n",
        "\n",
        "    for t in range(t_max):\n",
        "        a = agent.get_action(s)\n",
        "\n",
        "        next_s, r, done, _ = env.step(a)\n",
        "        agent.update(s, a, r, next_s)\n",
        "\n",
        "        s = next_s\n",
        "        total_reward += r\n",
        "        if done:\n",
        "            break\n",
        "\n",
        "    return total_reward"
      ]
    },
    {
      "cell_type": "code",
      "execution_count": null,
      "metadata": {
        "id": "EfgokRCH0oXf"
      },
      "outputs": [],
      "source": [
        "agent_sarsa = EVSarsaAgent(alpha = 0.25, epsilon = 0.25, discount = 0.99, get_legal_actions = lambda s: range(n_actions))\n",
        "agent_ql = QLearningAgent(alpha=0.25, epsilon=0.2, discount=0.99, get_legal_actions=lambda s: range(n_actions))"
      ]
    },
    {
      "cell_type": "code",
      "execution_count": null,
      "metadata": {
        "id": "BjaWkKbj1Mzx"
      },
      "outputs": [],
      "source": [
        "from IPython.display import clear_output\n",
        "import pandas as pd"
      ]
    },
    {
      "cell_type": "code",
      "execution_count": null,
      "metadata": {
        "colab": {
          "base_uri": "https://localhost:8080/",
          "height": 316
        },
        "id": "4Gwmpofw1QfW",
        "outputId": "50d19c9f-0aa0-4d0b-c0a1-d3cc09415ae1"
      },
      "outputs": [
        {
          "output_type": "stream",
          "name": "stdout",
          "text": [
            "EVSARSA mean reward = -33.38\n",
            "QLEARNING mean reward = -66.5\n"
          ]
        },
        {
          "output_type": "display_data",
          "data": {
            "image/png": "[encoded data removed]",
            "text/plain": [
              "<Figure size 432x288 with 1 Axes>"
            ]
          },
          "metadata": {
            "needs_background": "light"
          }
        }
      ],
      "source": [
        "def moving_average(x, span=100):\n",
        "    return pd.DataFrame({'x': np.asarray(x)}).x.ewm(span=span).mean().values\n",
        "\n",
        "rewards_sarsa, rewards_ql = [], []\n",
        "\n",
        "for i in range(5000):\n",
        "    rewards_sarsa.append(play_and_train(env, agent_sarsa))\n",
        "    rewards_ql.append(play_and_train(env, agent_ql))\n",
        "    # Note: agent.epsilon stays constant\n",
        "\n",
        "    if i % 100 == 0:\n",
        "        clear_output(True)\n",
        "        print('EVSARSA mean reward =', np.mean(rewards_sarsa[-100:]))\n",
        "        print('QLEARNING mean reward =', np.mean(rewards_ql[-100:]))\n",
        "        plt.title(\"epsilon = %s\" % agent_ql.epsilon)\n",
        "        plt.plot(moving_average(rewards_sarsa), label='ev_sarsa')\n",
        "        plt.plot(moving_average(rewards_ql), label='qlearning')\n",
        "        plt.grid()\n",
        "        plt.legend()\n",
        "        plt.ylim(-500, 0)\n",
        "        plt.show()"
      ]
    },
    {
      "cell_type": "code",
      "execution_count": null,
      "metadata": {
        "id": "HJtioqV52407"
      },
      "outputs": [],
      "source": [
        "def draw_policy(env, agent):\n",
        "    \"\"\" Prints CliffWalkingEnv policy with arrows. Hard-coded. \"\"\"\n",
        "    n_rows, n_cols = env._cliff.shape\n",
        "\n",
        "    actions = '^>v<'\n",
        "\n",
        "    for yi in range(n_rows):\n",
        "        for xi in range(n_cols):\n",
        "            if env._cliff[yi, xi]:\n",
        "                print(\" C \", end='')\n",
        "            elif (yi * n_cols + xi) == env.start_state_index:\n",
        "                print(\" X \", end='')\n",
        "            elif (yi * n_cols + xi) == n_rows * n_cols - 1:\n",
        "                print(\" T \", end='')\n",
        "            else:\n",
        "                print(\" %s \" %\n",
        "                      actions[agent.get_best_action(yi * n_cols + xi)], end='')\n",
        "        print()"
      ]
    },
    {
      "cell_type": "code",
      "execution_count": null,
      "metadata": {
        "id": "V5rVPQKf22ZK",
        "colab": {
          "base_uri": "https://localhost:8080/"
        },
        "outputId": "e2e6bd75-65ff-4c5b-d63c-b0477a6ee209"
      },
      "outputs": [
        {
          "output_type": "stream",
          "name": "stdout",
          "text": [
            "Q-Learning\n",
            " >  >  v  v  v  v  v  >  v  v  >  v \n",
            " >  >  >  >  >  >  >  >  >  >  >  v \n",
            " >  >  >  >  >  >  >  >  >  >  >  v \n",
            " X  C  C  C  C  C  C  C  C  C  C  T \n",
            "SARSA\n",
            " >  >  >  >  >  >  >  >  >  >  >  v \n",
            " ^  ^  ^  ^  ^  ^  >  >  >  >  >  v \n",
            " ^  ^  ^  ^  ^  ^  ^  ^  ^  ^  >  v \n",
            " X  C  C  C  C  C  C  C  C  C  C  T \n"
          ]
        }
      ],
      "source": [
        "print(\"Q-Learning\")\n",
        "draw_policy(env, agent_ql)\n",
        "\n",
        "print(\"SARSA\")\n",
        "draw_policy(env, agent_sarsa)"
      ]
    },
    {
      "cell_type": "code",
      "execution_count": null,
      "metadata": {
        "id": "OYg0br-w2myN",
        "colab": {
          "base_uri": "https://localhost:8080/"
        },
        "outputId": "25629718-c42f-48bf-d35f-09968cdbc83b"
      },
      "outputs": [
        {
          "output_type": "stream",
          "name": "stdout",
          "text": [
            "Submitted to Coursera platform. See results on assignment page!\n"
          ]
        }
      ],
      "source": [
        "from submit import submit_sarsa\n",
        "submit_sarsa(rewards_ql, rewards_sarsa, 'yonghangaashma7@gmail.com', 'msjr3HPSNxSm59ML')"
      ]
    }
  ],
  "metadata": {
    "colab": {
      "name": "sarsa.ipynb",
      "provenance": [],
      "authorship_tag": "ABX9TyM66B855Fn+8UoO1GbuZ/FT",
      "include_colab_link": true
    },
    "kernelspec": {
      "display_name": "Python 3",
      "name": "python3"
    },
    "language_info": {
      "name": "python"
    }
  },
  "nbformat": 4,
  "nbformat_minor": 0
}