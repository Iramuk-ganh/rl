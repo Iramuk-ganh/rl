{
  "nbformat": 4,
  "nbformat_minor": 0,
  "metadata": {
    "colab": {
      "name": "reinforce_policy_gradient_method_policy_based.ipynb",
      "provenance": [],
      "authorship_tag": "ABX9TyP0/IUsVsVwOJqZ/PY++Wba",
      "include_colab_link": true
    },
    "kernelspec": {
      "name": "python3",
      "display_name": "Python 3"
    },
    "language_info": {
      "name": "python"
    }
  },
  "cells": [
    {
      "cell_type": "markdown",
      "metadata": {
        "id": "view-in-github",
        "colab_type": "text"
      },
      "source": [
        "<a href=\"https://colab.research.google.com/github/Iramuk-ganh/rl/blob/main/reinforce_policy_gradient_method_policy_based.ipynb\" target=\"_parent\"><img src=\"https://colab.research.google.com/assets/colab-badge.svg\" alt=\"Open In Colab\"/></a>"
      ]
    },
    {
      "cell_type": "code",
      "execution_count": 1,
      "metadata": {
        "colab": {
          "base_uri": "https://localhost:8080/"
        },
        "id": "QjSwniC-jHfD",
        "outputId": "78e1d88b-eb35-4561-85d3-a8ff79c1c005"
      },
      "outputs": [
        {
          "output_type": "stream",
          "name": "stdout",
          "text": [
            "TensorFlow 1.x selected.\n",
            "Selecting previously unselected package xvfb.\n",
            "(Reading database ... 155229 files and directories currently installed.)\n",
            "Preparing to unpack .../xvfb_2%3a1.19.6-1ubuntu4.10_amd64.deb ...\n",
            "Unpacking xvfb (2:1.19.6-1ubuntu4.10) ...\n",
            "Setting up xvfb (2:1.19.6-1ubuntu4.10) ...\n",
            "Processing triggers for man-db (2.8.3-2ubuntu0.1) ...\n",
            "Starting virtual X frame buffer: Xvfb.\n"
          ]
        }
      ],
      "source": [
        "import sys, os\n",
        "if 'google.colab' in sys.modules:\n",
        "    %tensorflow_version 1.x\n",
        "    \n",
        "    if not os.path.exists('.setup_complete'):\n",
        "        !wget -q https://raw.githubusercontent.com/yandexdataschool/Practical_RL/master/setup_colab.sh -O- | bash\n",
        "\n",
        "        !wget -q https://raw.githubusercontent.com/yandexdataschool/Practical_RL/coursera/grading.py -O ../grading.py\n",
        "        !wget -q https://raw.githubusercontent.com/yandexdataschool/Practical_RL/coursera/week5_policy_based/submit.py\n",
        "\n",
        "        !touch .setup_complete\n",
        "\n",
        "# This code creates a virtual display to draw game images on.\n",
        "# It will have no effect if your machine has a monitor.\n",
        "if type(os.environ.get(\"DISPLAY\")) is not str or len(os.environ.get(\"DISPLAY\")) == 0:\n",
        "    !bash ../xvfb start\n",
        "    os.environ['DISPLAY'] = ':1'"
      ]
    },
    {
      "cell_type": "code",
      "source": [
        "import gym\n",
        "import numpy as np\n",
        "import matplotlib.pyplot as plt\n",
        "%matplotlib inline"
      ],
      "metadata": {
        "id": "cYY3iRORjR2S"
      },
      "execution_count": 2,
      "outputs": []
    },
    {
      "cell_type": "code",
      "source": [
        "env = gym.make(\"CartPole-v0\")"
      ],
      "metadata": {
        "id": "ROUcK4MFjTx_"
      },
      "execution_count": 6,
      "outputs": []
    },
    {
      "cell_type": "code",
      "source": [
        "env"
      ],
      "metadata": {
        "colab": {
          "base_uri": "https://localhost:8080/"
        },
        "id": "tFfeBh4BkMMd",
        "outputId": "aea6ae7f-2c5d-4ce6-a75d-e4c01bcc537f"
      },
      "execution_count": 8,
      "outputs": [
        {
          "output_type": "execute_result",
          "data": {
            "text/plain": [
              "<gym.envs.classic_control.cartpole.CartPoleEnv at 0x7f70ffbece10>"
            ]
          },
          "metadata": {},
          "execution_count": 8
        }
      ]
    },
    {
      "cell_type": "markdown",
      "source": [
        "😌hasattr(obj, name)\n",
        "\n",
        "Return whether the object has an attribute with the given name.\n",
        "This is done by calling getattr(obj, name) and catching AttributeError."
      ],
      "metadata": {
        "id": "DNJKadS-kFhw"
      }
    },
    {
      "cell_type": "code",
      "source": [
        "# gym compatibility: unwrap TimeLimit\n",
        "if hasattr(env, '_max_episode_steps'):\n",
        "    env = env.env"
      ],
      "metadata": {
        "id": "Tn5O078Yjuab"
      },
      "execution_count": 7,
      "outputs": []
    },
    {
      "cell_type": "code",
      "source": [
        "env.reset()\n",
        "n_actions = env.action_space.n\n",
        "state_dim = env.observation_space.shape\n",
        "plt.imshow(env.render(\"rgb_array\"))"
      ],
      "metadata": {
        "colab": {
          "base_uri": "https://localhost:8080/",
          "height": 286
        },
        "id": "TYnXEmVXkOIz",
        "outputId": "af786516-3fb0-4572-b415-51538a58d88f"
      },
      "execution_count": 10,
      "outputs": [
        {
          "output_type": "execute_result",
          "data": {
            "text/plain": [
              "<matplotlib.image.AxesImage at 0x7f70f37b3810>"
            ]
          },
          "metadata": {},
          "execution_count": 10
        },
        {
          "output_type": "display_data",
          "data": {
            "image/png": "[encoded data removed]",
            "text/plain": [
              "<Figure size 432x288 with 1 Axes>"
            ]
          },
          "metadata": {
            "needs_background": "light"
          }
        }
      ]
    },
    {
      "cell_type": "markdown",
      "source": [
        "# Building the network for REINFORCE\n"
      ],
      "metadata": {
        "id": "LLRtOrjGkq5a"
      }
    },
    {
      "cell_type": "markdown",
      "source": [
        "For REINFORCE algorithm, we'll need a model that predicts action probabilities given states.\n",
        "\n",
        "For numerical stability, please __do not include the softmax layer into your network architecture__.\n",
        "We'll use softmax or log-softmax where appropriate."
      ],
      "metadata": {
        "id": "AT_NkOMgkuSy"
      }
    },
    {
      "cell_type": "code",
      "source": [
        "import tensorflow as tf"
      ],
      "metadata": {
        "id": "Y6OYdcZekhKs"
      },
      "execution_count": 11,
      "outputs": []
    },
    {
      "cell_type": "markdown",
      "source": [
        "😌tf.InteractiveSession()\n",
        "A TensorFlow Session for use in interactive contexts, such as a shell.\n",
        "The only difference with a regular Session is that an InteractiveSession\n",
        "installs itself as the default session on construction.\n",
        "The methods tf.Tensor.eval\n",
        "and tf.Operation.run\n",
        "will use that session to run ops."
      ],
      "metadata": {
        "id": "7BgcNuQmlcTp"
      }
    },
    {
      "cell_type": "markdown",
      "source": [
        "###tf.InteractiveSession()"
      ],
      "metadata": {
        "id": "mAvgFZHVlsSF"
      }
    },
    {
      "cell_type": "markdown",
      "source": [
        "tf.Session\n",
        "🔗https://www.tensorflow.org/api_docs/python/tf/compat/v1/Session"
      ],
      "metadata": {
        "id": "SAGCT5zGm2XI"
      }
    },
    {
      "cell_type": "code",
      "source": [
        "sess_eg = tf.InteractiveSession() "
      ],
      "metadata": {
        "id": "OPzdCsdolycN"
      },
      "execution_count": 12,
      "outputs": []
    },
    {
      "cell_type": "code",
      "source": [
        "a = tf.constant(5.0)\n",
        "b = tf.constant(6.0)\n",
        "c = a*b\n",
        "# We can just use 'c.eval()' without passing 'sess'\n",
        "print(c.eval())\n",
        "sess_eg.close()"
      ],
      "metadata": {
        "colab": {
          "base_uri": "https://localhost:8080/"
        },
        "id": "HdosZieqmGuy",
        "outputId": "b5f5dd45-7012-4773-9375-f127eb68ca46"
      },
      "execution_count": 14,
      "outputs": [
        {
          "output_type": "stream",
          "name": "stdout",
          "text": [
            "30.0\n"
          ]
        }
      ]
    },
    {
      "cell_type": "markdown",
      "source": [
        "###Default session for REINFORCE"
      ],
      "metadata": {
        "id": "PM4ws538mbSX"
      }
    },
    {
      "cell_type": "code",
      "source": [
        "sess = tf.InteractiveSession()"
      ],
      "metadata": {
        "id": "AJNiyroXkzfw"
      },
      "execution_count": 15,
      "outputs": []
    },
    {
      "cell_type": "markdown",
      "source": [
        "###tf.placeholder\n",
        "\n",
        "Inserts a placeholder for a tensor that will be always fed.\n",
        "🔗https://www.tensorflow.org/api_docs/python/tf/compat/v1/placeholder"
      ],
      "metadata": {
        "id": "G-mmjsIWnJhA"
      }
    },
    {
      "cell_type": "code",
      "source": [
        "# create input variables. We only need <s, a, r> for REINFORCE\n",
        "ph_states = tf.placeholder('float32', (None,)+state_dim, name = \"states\")\n",
        "ph_actions = tf.placeholder('int32', name=\"action_ids\")\n",
        "ph_cumulative_rewards = tf.placeholder('float32', name=\"cumulative_returns\")"
      ],
      "metadata": {
        "id": "61FjlK3KmjlH"
      },
      "execution_count": 16,
      "outputs": []
    },
    {
      "cell_type": "code",
      "source": [
        "import keras\n",
        "from keras.models import Sequential\n",
        "import keras.layers as L"
      ],
      "metadata": {
        "id": "ijKmmsz1n-Ke"
      },
      "execution_count": 24,
      "outputs": []
    },
    {
      "cell_type": "code",
      "source": [
        "#define network graph using raw TF, Keras, or any other library you prefer\n",
        "network = keras.models.Sequential()\n",
        "network.add(L.InputLayer(state_dim))\n",
        "\n",
        "network.add(L.Dense(32, activation='relu', input_shape = state_dim))\n",
        "network.add(L.Dense(32, activation='relu'))\n",
        "network.add(L.Dense(n_actions, activation='linear'))"
      ],
      "metadata": {
        "id": "jvYqmvztoNZn"
      },
      "execution_count": 59,
      "outputs": []
    },
    {
      "cell_type": "code",
      "source": [
        "ph_states"
      ],
      "metadata": {
        "colab": {
          "base_uri": "https://localhost:8080/"
        },
        "id": "_purPRJAvmfj",
        "outputId": "0e750024-8258-4291-bd58-aa5f6550f1f8"
      },
      "execution_count": 60,
      "outputs": [
        {
          "output_type": "execute_result",
          "data": {
            "text/plain": [
              "<tf.Tensor 'states:0' shape=(?, 4) dtype=float32>"
            ]
          },
          "metadata": {},
          "execution_count": 60
        }
      ]
    },
    {
      "cell_type": "code",
      "source": [
        "#logits = symbolic outputs of your network _before_ softmax\n",
        "logits = network(ph_states)#action-values for all actions\n",
        "\n",
        "policy = tf.nn.softmax(logits)#softmax() computes softmax activations\n",
        "log_policy = tf.nn.log_softmax(logits)#log_softmax() computes log softmax activations"
      ],
      "metadata": {
        "id": "IDBjU1sqvC1W"
      },
      "execution_count": 61,
      "outputs": []
    },
    {
      "cell_type": "markdown",
      "source": [
        "###sess.run()\n",
        "🔗https://www.tensorflow.org/api_docs/python/tf/compat/v1/Session\n",
        "🔗https://stackoverflow.com/questions/51401935/arguments-to-tensorflow-session-run-do-you-pass-operations/51402747"
      ],
      "metadata": {
        "id": "3mPi3DBmoffq"
      }
    },
    {
      "cell_type": "markdown",
      "source": [
        "😌tf.global_variables_initializer()\n",
        "\n",
        "Returns an Op that initializes global variables.\n",
        "This is just a shortcut for variables_initializer(global_variables())."
      ],
      "metadata": {
        "id": "lOjjSU-hsrkX"
      }
    },
    {
      "cell_type": "code",
      "source": [
        "sess.run(tf.global_variables_initializer())"
      ],
      "metadata": {
        "id": "e2tTq5-nopwa"
      },
      "execution_count": 62,
      "outputs": []
    },
    {
      "cell_type": "code",
      "source": [
        "def predict_probs(states):\n",
        "    \"\"\" \n",
        "    Predict action probabilities given states.\n",
        "    :param states: numpy array of shape [batch, state_shape]\n",
        "    :returns: numpy array of shape [batch, n_actions]\n",
        "    \"\"\"\n",
        "    return policy.eval({ph_states: [states]})[0]"
      ],
      "metadata": {
        "id": "R3kc3NP2s5M5"
      },
      "execution_count": 63,
      "outputs": []
    },
    {
      "cell_type": "markdown",
      "source": [
        "### Play the game\n",
        "\n",
        "We can now use our newly built agent to play the game."
      ],
      "metadata": {
        "id": "9DVaQLW5wYTJ"
      }
    },
    {
      "cell_type": "code",
      "source": [
        "import numpy as np"
      ],
      "metadata": {
        "id": "GhU-BQkGw5dA"
      },
      "execution_count": 64,
      "outputs": []
    },
    {
      "cell_type": "code",
      "source": [
        "def generate_session(env, t_max=1000):\n",
        "    \"\"\" \n",
        "    Play a full session with REINFORCE agent.\n",
        "    Returns sequences of states, actions, and rewards.\n",
        "    \"\"\"\n",
        "    # arrays to record session\n",
        "    states, actions, rewards = [], [], []\n",
        "    s = env.reset()\n",
        "\n",
        "    for t in range(t_max):\n",
        "       # action probabilities array aka pi(a|s)\n",
        "       action_probs = predict_probs(s)\n",
        "\n",
        "       # Sample action with given probabilities.\n",
        "       a = np.random.choice(n_actions, 1, p=action_probs)[0]\n",
        "       new_s, r, done, info = env.step(a)\n",
        "\n",
        "       # record session history to train later\n",
        "       states.append(s)\n",
        "       actions.append(a)\n",
        "       rewards.append(r)\n",
        "\n",
        "       s = new_s\n",
        "       if done:\n",
        "            break\n",
        "    return states, actions, rewards"
      ],
      "metadata": {
        "id": "7-aovnrmwUk1"
      },
      "execution_count": 82,
      "outputs": []
    },
    {
      "cell_type": "code",
      "source": [
        "# test it\n",
        "states, actions, rewards = generate_session(env)"
      ],
      "metadata": {
        "id": "4d8OEjZsxQke"
      },
      "execution_count": 83,
      "outputs": []
    },
    {
      "cell_type": "markdown",
      "source": [
        "### Computing cumulative rewards\n",
        "\n",
        "$$\n",
        "\\begin{align*}\n",
        "G_t &= r_t + \\gamma r_{t + 1} + \\gamma^2 r_{t + 2} + \\ldots \\\\\n",
        "&= \\sum_{i = t}^T \\gamma^{i - t} r_i \\\\\n",
        "&= r_t + \\gamma * G_{t + 1}\n",
        "\\end{align*}\n",
        "$$"
      ],
      "metadata": {
        "id": "aanyPeB0xuYT"
      }
    },
    {
      "cell_type": "code",
      "source": [
        "from collections import deque"
      ],
      "metadata": {
        "id": "KgReBcxp0Hom"
      },
      "execution_count": 84,
      "outputs": []
    },
    {
      "cell_type": "code",
      "source": [
        "def get_cumulative_rewards(rewards,  # rewards at each step\n",
        "                           gamma=0.99  # discount for reward\n",
        "                           ):\n",
        "    \"\"\"\n",
        "    Take a list of immediate rewards r(s,a) for the whole session \n",
        "    and compute cumulative returns (a.k.a. G(s,a) in Sutton '16).\n",
        "\n",
        "    G_t = r_t + gamma*r_{t+1} + gamma^2*r_{t+2} + ...\n",
        "\n",
        "    A simple way to compute cumulative rewards is to iterate from the last\n",
        "    to the first timestep and compute G_t = r_t + gamma*G_{t+1} recurrently\n",
        "\n",
        "    You must return an array/list of cumulative rewards with as many elements as in the initial rewards.\n",
        "    \"\"\"\n",
        "    returns = deque([rewards[-1]])#cumulative_rewards\n",
        "    for i in range(len(rewards)-2, -1, -1):#range(start, stop, step)\n",
        "      returns.appendleft(rewards[i] + gamma*returns[0])\n",
        "\n",
        "    return returns"
      ],
      "metadata": {
        "id": "N_2JfMCjxhN9"
      },
      "execution_count": 85,
      "outputs": []
    },
    {
      "cell_type": "code",
      "source": [
        "assert len(get_cumulative_rewards(range(100))) == 100\n",
        "assert np.allclose(\n",
        "    get_cumulative_rewards([0, 0, 1, 0, 0, 1, 0], gamma=0.9),\n",
        "    [1.40049, 1.5561, 1.729, 0.81, 0.9, 1.0, 0.0])\n",
        "assert np.allclose(\n",
        "    get_cumulative_rewards([0, 0, 1, -2, 3, -4, 0], gamma=0.5),\n",
        "    [0.0625, 0.125, 0.25, -1.5, 1.0, -4.0, 0.0])\n",
        "assert np.allclose(\n",
        "    get_cumulative_rewards([0, 0, 1, 2, 3, 4, 0], gamma=0),\n",
        "    [0, 0, 1, 2, 3, 4, 0])\n",
        "print(\"looks good!\")"
      ],
      "metadata": {
        "colab": {
          "base_uri": "https://localhost:8080/"
        },
        "id": "Q1gOA_XTz95f",
        "outputId": "d7dc87ba-0d76-43dc-9551-f4a5de855521"
      },
      "execution_count": 86,
      "outputs": [
        {
          "output_type": "stream",
          "name": "stdout",
          "text": [
            "looks good!\n"
          ]
        }
      ]
    },
    {
      "cell_type": "markdown",
      "source": [
        "#### Loss function and updates\n",
        "\n",
        "We now need to define objective and update over policy gradient.\n",
        "\n",
        "Our objective function is\n",
        "\n",
        "$$ J \\approx  { 1 \\over N } \\sum_{s_i,a_i} G(s_i,a_i) $$\n",
        "\n",
        "REINFORCE defines a way to compute the gradient of the expected reward with respect to policy parameters. The formula is as follows:\n",
        "\n",
        "$$ \\nabla_\\theta \\hat J(\\theta) \\approx { 1 \\over N } \\sum_{s_i, a_i} \\nabla_\\theta \\log \\pi_\\theta (a_i \\mid s_i) \\cdot G_t(s_i, a_i) $$\n",
        "\n",
        "We can abuse Tensorflow's capabilities for automatic differentiation by defining our objective function as follows:\n",
        "\n",
        "$$ \\hat J(\\theta) \\approx { 1 \\over N } \\sum_{s_i, a_i} \\log \\pi_\\theta (a_i \\mid s_i) \\cdot G_t(s_i, a_i) $$\n",
        "\n",
        "When you compute the gradient of that function with respect to network weights $\\theta$, it will become exactly the policy gradient."
      ],
      "metadata": {
        "id": "utQbKn_a1h4k"
      }
    },
    {
      "cell_type": "code",
      "source": [
        "tf.shape(log_policy)"
      ],
      "metadata": {
        "colab": {
          "base_uri": "https://localhost:8080/"
        },
        "id": "yCs7naMN12gH",
        "outputId": "3b2ef44f-6f33-43e1-c57a-b10d53ec8385"
      },
      "execution_count": 87,
      "outputs": [
        {
          "output_type": "execute_result",
          "data": {
            "text/plain": [
              "<tf.Tensor 'Shape_4:0' shape=(2,) dtype=int32>"
            ]
          },
          "metadata": {},
          "execution_count": 87
        }
      ]
    },
    {
      "cell_type": "markdown",
      "source": [
        "###tf.stack()\n",
        "😌tf.stack()\n",
        "Stacks a list of rank-R tensors into one rank-(R+1) tensor.\n",
        "\n",
        "Packs the list of tensors in values into a tensor with rank one higher than\n",
        "each tensor in values, by packing them along the axis dimension.\n",
        "Given a list of length N of tensors of shape (A, B, C);\n",
        "\n",
        "if axis == 0 then the output tensor will have the shape (N, A, B, C).\n",
        "if axis == 1 then the output tensor will have the shape (A, N, B, C).\n",
        "Etc."
      ],
      "metadata": {
        "id": "LpCsDsCF2Ua6"
      }
    },
    {
      "cell_type": "code",
      "source": [
        "x = tf.constant([1, 4])\n",
        "y = tf.constant([2, 5])\n",
        "z = tf.constant([3, 6])\n",
        "a=tf.stack([x, y, z])  # [[1, 4], [2, 5], [3, 6]] (Pack along first dim.)\n",
        "b=tf.stack([x, y, z], axis=1)  # [[1, 2, 3], [4, 5, 6]]\n",
        "a,b"
      ],
      "metadata": {
        "colab": {
          "base_uri": "https://localhost:8080/"
        },
        "id": "MhGnpnOi2kos",
        "outputId": "36965c91-5149-4976-c3c6-52d3d7e17db6"
      },
      "execution_count": 88,
      "outputs": [
        {
          "output_type": "execute_result",
          "data": {
            "text/plain": [
              "(<tf.Tensor 'stack_6:0' shape=(3, 2) dtype=int32>,\n",
              " <tf.Tensor 'stack_7:0' shape=(2, 3) dtype=int32>)"
            ]
          },
          "metadata": {},
          "execution_count": 88
        }
      ]
    },
    {
      "cell_type": "markdown",
      "source": [
        "###tf.gather_nd(params, indices, name=None, batch_dims=0)\n",
        "\n",
        "😌Gather slices from params into a Tensor with shape specified by indices."
      ],
      "metadata": {
        "id": "cfsVijOX3Z_O"
      }
    },
    {
      "cell_type": "code",
      "source": [
        "# This code selects the log-probabilities (log pi(a_i|s_i)) for those actions that were actually played.\n",
        "indices = tf.stack([tf.range(tf.shape(log_policy)[0]), ph_actions], axis=-1)\n",
        "log_policy_for_actions = tf.gather_nd(log_policy, indices)"
      ],
      "metadata": {
        "id": "PtDiiT140EUR"
      },
      "execution_count": 89,
      "outputs": []
    },
    {
      "cell_type": "code",
      "source": [
        "# Policy objective as in the last formula. Please use reduce_mean, not reduce_sum.\n",
        "# You may use log_policy_for_actions to get log probabilities for actions taken.\n",
        "# Also recall that we defined ph_cumulative_rewards earlier.\n",
        "\n",
        "J = tf.reduce_mean(log_policy_for_actions*ph_cumulative_rewards)"
      ],
      "metadata": {
        "id": "VgHLMDaZ3mnM"
      },
      "execution_count": 90,
      "outputs": []
    },
    {
      "cell_type": "code",
      "source": [
        "# Entropy regularization. If you don't add it, the policy will quickly deteriorate to\n",
        "# being deterministic, harming exploration.\n",
        "\n",
        "entropy = -tf.reduce_sum(policy*log_policy, 1, name=\"entropy\")#compute entropy. Do not forget the sign!"
      ],
      "metadata": {
        "id": "WjwNCARs39mT"
      },
      "execution_count": 91,
      "outputs": []
    },
    {
      "cell_type": "code",
      "source": [
        "# # Maximizing X is the same as minimizing -X, hence the sign.\n",
        "loss = -(J + 0.1 * entropy)\n",
        "\n",
        "update = tf.train.AdamOptimizer().minimize(loss)"
      ],
      "metadata": {
        "id": "NuUjFpiS4cj_"
      },
      "execution_count": 92,
      "outputs": []
    },
    {
      "cell_type": "code",
      "source": [
        "def train_on_session(states, actions, rewards, t_max=1000):\n",
        "    \"\"\"given full session, trains agent with policy gradient\"\"\"\n",
        "    cumulative_rewards = get_cumulative_rewards(rewards)\n",
        "    update.run({\n",
        "        ph_states: states,\n",
        "        ph_actions: actions,\n",
        "        ph_cumulative_rewards: cumulative_rewards,\n",
        "    })\n",
        "    return sum(rewards)"
      ],
      "metadata": {
        "id": "bQHKkprE4i2Z"
      },
      "execution_count": 93,
      "outputs": []
    },
    {
      "cell_type": "code",
      "source": [
        "# Initialize optimizer parameters\n",
        "sess.run(tf.global_variables_initializer())"
      ],
      "metadata": {
        "id": "USCbQcX54q76"
      },
      "execution_count": 94,
      "outputs": []
    },
    {
      "cell_type": "markdown",
      "source": [
        "### The actual training"
      ],
      "metadata": {
        "id": "Xx08WFu_446m"
      }
    },
    {
      "cell_type": "code",
      "source": [
        "for i in range(100):\n",
        "  rewards = [train_on_session(*generate_session(env)) for _ in range(100)]\n",
        "\n",
        "  print(\"mean reward: %.3f\" % (np.mean(rewards)))\n",
        "\n",
        "  if np.mean(rewards) > 300:\n",
        "    print(\"You Win!\") # but you can train even further\n",
        "    break"
      ],
      "metadata": {
        "colab": {
          "base_uri": "https://localhost:8080/"
        },
        "id": "9R6kOWWU4yns",
        "outputId": "b4e77ad9-be62-4956-c4aa-5734690af51b"
      },
      "execution_count": 95,
      "outputs": [
        {
          "output_type": "stream",
          "name": "stdout",
          "text": [
            "mean reward: 26.870\n",
            "mean reward: 33.920\n",
            "mean reward: 64.450\n",
            "mean reward: 152.720\n",
            "mean reward: 398.920\n",
            "You Win!\n"
          ]
        }
      ]
    },
    {
      "cell_type": "markdown",
      "source": [
        "### Results & video"
      ],
      "metadata": {
        "id": "JTvOU2xf50sz"
      }
    },
    {
      "cell_type": "code",
      "source": [
        "# Record sessions\n",
        "\n",
        "import gym.wrappers\n",
        "\n",
        "with gym.wrappers.Monitor(gym.make(\"CartPole-v0\"), directory=\"videos\", force=True) as env_monitor:\n",
        "    sessions = [generate_session(env_monitor) for _ in range(100)]"
      ],
      "metadata": {
        "id": "paRJWrbh50TQ"
      },
      "execution_count": 96,
      "outputs": []
    },
    {
      "cell_type": "code",
      "source": [
        "# Show video. This may not work in some setups. If it doesn't\n",
        "# work for you, you can download the videos and view them locally.\n",
        "\n",
        "from pathlib import Path\n",
        "from IPython.display import HTML\n",
        "\n",
        "video_names = sorted([s for s in Path('videos').iterdir() if s.suffix == '.mp4'])\n",
        "\n",
        "HTML(\"\"\"\n",
        "<video width=\"640\" height=\"480\" controls>\n",
        "  <source src=\"{}\" type=\"video/mp4\">\n",
        "</video>\n",
        "\"\"\".format(video_names[-1]))  # You can also try other indices"
      ],
      "metadata": {
        "colab": {
          "base_uri": "https://localhost:8080/",
          "height": 502
        },
        "id": "x7M0bXCM53wr",
        "outputId": "585b9c8c-9698-465f-e729-a30fef21cde8"
      },
      "execution_count": 97,
      "outputs": [
        {
          "output_type": "execute_result",
          "data": {
            "text/html": [
              "\n",
              "<video width=\"640\" height=\"480\" controls>\n",
              "  <source src=\"videos/openaigym.video.1.60.video000064.mp4\" type=\"video/mp4\">\n",
              "</video>\n"
            ],
            "text/plain": [
              "<IPython.core.display.HTML object>"
            ]
          },
          "metadata": {},
          "execution_count": 97
        }
      ]
    },
    {
      "cell_type": "code",
      "source": [
        "from submit import submit_cartpole\n",
        "submit_cartpole(generate_session, 'yonghangaashma7@gmail.com', 'IiXzYIMSxSBGZf2K')"
      ],
      "metadata": {
        "colab": {
          "base_uri": "https://localhost:8080/"
        },
        "id": "8n_Knz8A5pme",
        "outputId": "ed5aabb1-f04b-4d6d-c3b1-1899e8d488a3"
      },
      "execution_count": 100,
      "outputs": [
        {
          "output_type": "stream",
          "name": "stdout",
          "text": [
            "Your average reward is 456.66 over 100 episodes\n",
            "Submitted to Coursera platform. See results on assignment page!\n"
          ]
        }
      ]
    }
  ]
}